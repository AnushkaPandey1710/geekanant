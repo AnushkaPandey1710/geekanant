{
  "cells": [
    {
      "cell_type": "markdown",
      "metadata": {
        "id": "Tce3stUlHN0L"
      },
      "source": [
        "##### Copyright 2024 Google LLC."
      ]
    },
    {
      "cell_type": "markdown",
      "source": [],
      "metadata": {
        "id": "yvSSTtLhpZVj"
      }
    },
    {
      "cell_type": "markdown",
      "source": [],
      "metadata": {
        "id": "5uMz7TbkpmoT"
      }
    },
    {
      "cell_type": "code",
      "source": [
        "print(\"Hello\")"
      ],
      "metadata": {
        "colab": {
          "base_uri": "https://localhost:8080/"
        },
        "id": "7EcJeFRXpz83",
        "outputId": "eddd231d-475b-467a-db42-28f98c0c1d40"
      },
      "execution_count": 2,
      "outputs": [
        {
          "output_type": "stream",
          "name": "stdout",
          "text": [
            "Hello\n"
          ]
        }
      ]
    },
    {
      "cell_type": "code",
      "source": [],
      "metadata": {
        "id": "poCI2BYsp72R"
      },
      "execution_count": null,
      "outputs": []
    },
    {
      "cell_type": "code",
      "source": [
        "ticket_price=100;\n",
        "wallet_size=150;\n"
      ],
      "metadata": {
        "id": "alsbHdX3p-RR",
        "outputId": "9a49ef36-cf83-4bbe-afb5-6f018e607885",
        "colab": {
          "base_uri": "https://localhost:8080/"
        }
      },
      "execution_count": 7,
      "outputs": [
        {
          "output_type": "stream",
          "name": "stdout",
          "text": [
            "Hurray\n"
          ]
        }
      ]
    },
    {
      "cell_type": "code",
      "source": [
        "\n",
        "if ticket_price <= wallet_size:\n",
        "    print(\"Hurray\")\n",
        "\n",
        "else:\n",
        "  print(\"Sad\")"
      ],
      "metadata": {
        "id": "AExQPkd6r4ep",
        "outputId": "96921bc5-1d51-4096-ab36-f0827acc5bfa",
        "colab": {
          "base_uri": "https://localhost:8080/"
        }
      },
      "execution_count": 8,
      "outputs": [
        {
          "output_type": "stream",
          "name": "stdout",
          "text": [
            "Hurray\n"
          ]
        }
      ]
    },
    {
      "cell_type": "code",
      "source": [
        "marks=70;\n",
        "if (marks>=90):\n",
        "  print(\"A+\")\n",
        "elif (marks<90 & marks>80):\n",
        "  print(\"B+\")\n",
        "elif (marks >=70):\n",
        "  print (\"B+\")\n",
        "else:\n",
        "  print(\"Fail\")"
      ],
      "metadata": {
        "id": "78Fsb8iUp-lA",
        "outputId": "6520402e-6db5-4b51-bb4e-033581bb0384",
        "colab": {
          "base_uri": "https://localhost:8080/"
        }
      },
      "execution_count": 13,
      "outputs": [
        {
          "output_type": "stream",
          "name": "stdout",
          "text": [
            "B+\n"
          ]
        }
      ]
    },
    {
      "cell_type": "code",
      "source": [
        "1 +2"
      ],
      "metadata": {
        "colab": {
          "base_uri": "https://localhost:8080/"
        },
        "id": "5K7yLpyypncj",
        "outputId": "822d3af1-7368-44ad-ac71-1ac0c97649e1"
      },
      "execution_count": 1,
      "outputs": [
        {
          "output_type": "execute_result",
          "data": {
            "text/plain": [
              "3"
            ]
          },
          "metadata": {},
          "execution_count": 1
        }
      ]
    },
    {
      "cell_type": "code",
      "source": [
        "number=6;\n",
        "if (number%2==0):\n",
        "  print(\"Even\")\n",
        "else:\n",
        "  print(\"Odd\")"
      ],
      "metadata": {
        "id": "N2L3XBaeHLWi",
        "outputId": "41e84b07-9b34-4efa-f527-96af67b36585",
        "colab": {
          "base_uri": "https://localhost:8080/"
        }
      },
      "execution_count": 4,
      "outputs": [
        {
          "output_type": "stream",
          "name": "stdout",
          "text": [
            "Even\n"
          ]
        }
      ]
    },
    {
      "cell_type": "code",
      "source": [],
      "metadata": {
        "id": "F6yEt6kVHmfR"
      },
      "execution_count": null,
      "outputs": []
    },
    {
      "cell_type": "code",
      "source": [
        "num1=20;\n",
        "num2= 21;\n",
        "num3=19;\n",
        "if(num1>num2 & num1>num3):\n",
        "  print(num1, \"is greater\")\n",
        "elif(num2>num1 & num2>num3):\n",
        "  print(num2, \"is greater\")\n",
        "else:\n",
        "  print(num3, \"is greatere\")\n"
      ],
      "metadata": {
        "id": "CM4moTXpHptd",
        "outputId": "59feccee-56db-48d2-b464-46657778cd1e",
        "colab": {
          "base_uri": "https://localhost:8080/"
        }
      },
      "execution_count": 5,
      "outputs": [
        {
          "output_type": "stream",
          "name": "stdout",
          "text": [
            "21 is greater\n"
          ]
        }
      ]
    },
    {
      "cell_type": "code",
      "source": [
        "for i in range(1,101):\n",
        "  if(i%10==0):\n",
        "    print(i)"
      ],
      "metadata": {
        "id": "DLDotaR-IfCH",
        "outputId": "7f49426a-2093-4c3d-abaa-07835a4c52a6",
        "colab": {
          "base_uri": "https://localhost:8080/"
        }
      },
      "execution_count": 7,
      "outputs": [
        {
          "output_type": "stream",
          "name": "stdout",
          "text": [
            "10\n",
            "20\n",
            "30\n",
            "40\n",
            "50\n",
            "60\n",
            "70\n",
            "80\n",
            "90\n",
            "100\n"
          ]
        }
      ]
    },
    {
      "cell_type": "code",
      "source": [
        "for x in range(10):\n",
        "  print(x)"
      ],
      "metadata": {
        "id": "gXTQw2IxL4C8",
        "outputId": "8f39d9ff-866c-4278-f3c9-11af34f6337b",
        "colab": {
          "base_uri": "https://localhost:8080/"
        }
      },
      "execution_count": 8,
      "outputs": [
        {
          "output_type": "stream",
          "name": "stdout",
          "text": [
            "0\n",
            "1\n",
            "2\n",
            "3\n",
            "4\n",
            "5\n",
            "6\n",
            "7\n",
            "8\n",
            "9\n"
          ]
        }
      ]
    },
    {
      "cell_type": "code",
      "source": [
        "count=1\n",
        "while(count<=5):\n",
        "  print(count)\n",
        "  count=count+1"
      ],
      "metadata": {
        "id": "Aa_A6QZBL-2y",
        "outputId": "ec044125-cbc4-4618-ffb8-f7bfd6f08f68",
        "colab": {
          "base_uri": "https://localhost:8080/"
        }
      },
      "execution_count": 11,
      "outputs": [
        {
          "output_type": "stream",
          "name": "stdout",
          "text": [
            "1\n",
            "2\n",
            "3\n",
            "4\n",
            "5\n"
          ]
        }
      ]
    },
    {
      "cell_type": "markdown",
      "source": [
        "***Lists***"
      ],
      "metadata": {
        "id": "mbJD7f85Obdz"
      }
    },
    {
      "cell_type": "code",
      "source": [
        "items=[\"mic\",\"laptop\",\"phone\",\"charger\"]\n",
        "print(items)"
      ],
      "metadata": {
        "id": "H8O99i69OrGi",
        "outputId": "dc7d0c8c-0dda-4838-e9e7-f4c2a91bfb81",
        "colab": {
          "base_uri": "https://localhost:8080/"
        }
      },
      "execution_count": 16,
      "outputs": [
        {
          "output_type": "stream",
          "name": "stdout",
          "text": [
            "['mic', 'laptop', 'phone', 'charger']\n"
          ]
        }
      ]
    },
    {
      "cell_type": "code",
      "source": [
        "print(items[0])"
      ],
      "metadata": {
        "id": "o0TgKeB8PHcc",
        "outputId": "7a44aa1b-79cf-4f35-fc4a-b0d355a9fe34",
        "colab": {
          "base_uri": "https://localhost:8080/"
        }
      },
      "execution_count": 17,
      "outputs": [
        {
          "output_type": "stream",
          "name": "stdout",
          "text": [
            "mic\n"
          ]
        }
      ]
    },
    {
      "cell_type": "code",
      "source": [
        "print(items[0:2])\n",
        "print(items[3])\n",
        "print(items[-1])\n",
        "print(items[:2])\n",
        "print(items[0:1])\n",
        "print(items[1:])\n",
        "items[3]=\"earphone\"\n",
        "print(items)\n",
        "items.append(\"charger\")\n",
        "print(items)"
      ],
      "metadata": {
        "id": "kJr7f0wzPHZF",
        "outputId": "d4fb8fba-d0b4-4a3c-baf7-34004b15dadb",
        "colab": {
          "base_uri": "https://localhost:8080/"
        }
      },
      "execution_count": 27,
      "outputs": [
        {
          "output_type": "stream",
          "name": "stdout",
          "text": [
            "['mic', 'laptop']\n",
            "earphone\n",
            "earphone\n",
            "['mic', 'laptop']\n",
            "['mic']\n",
            "['laptop', 'phone', 'earphone']\n",
            "['mic', 'laptop', 'phone', 'earphone']\n",
            "['mic', 'laptop', 'phone', 'earphone', 'charger']\n"
          ]
        }
      ]
    },
    {
      "cell_type": "code",
      "source": [
        "print(\"earbuds\" in items)\n",
        "print(\"mic\" in items)\n",
        "print(len(items))"
      ],
      "metadata": {
        "id": "tbZhtFmPQol0",
        "outputId": "923ba9de-0644-472b-b411-24a1b403d64b",
        "colab": {
          "base_uri": "https://localhost:8080/"
        }
      },
      "execution_count": 30,
      "outputs": [
        {
          "output_type": "stream",
          "name": "stdout",
          "text": [
            "False\n",
            "True\n",
            "5\n"
          ]
        }
      ]
    },
    {
      "cell_type": "markdown",
      "source": [
        "**List Comprehenison**"
      ],
      "metadata": {
        "id": "k2oauwODSv6z"
      }
    },
    {
      "cell_type": "code",
      "source": [
        "score=[10,20,30,40,50]\n",
        "for i  in score:\n",
        "  print(i/2)\n",
        "#another way\n",
        "([i/2 for i in score])"
      ],
      "metadata": {
        "id": "irFXf6mQS4kJ",
        "outputId": "d33aefc9-6ac5-46a1-bccc-24c71d0ad82d",
        "colab": {
          "base_uri": "https://localhost:8080/"
        }
      },
      "execution_count": 35,
      "outputs": [
        {
          "output_type": "stream",
          "name": "stdout",
          "text": [
            "5.0\n",
            "10.0\n",
            "15.0\n",
            "20.0\n",
            "25.0\n"
          ]
        },
        {
          "output_type": "execute_result",
          "data": {
            "text/plain": [
              "[5.0, 10.0, 15.0, 20.0, 25.0]"
            ]
          },
          "metadata": {},
          "execution_count": 35
        }
      ]
    },
    {
      "cell_type": "code",
      "source": [
        "x=5\n",
        "y=3\n",
        "print(x+y*3)"
      ],
      "metadata": {
        "id": "gwsM31NKUKr3",
        "outputId": "a741012c-31b3-40a8-dbdb-a6bc3a7130ae",
        "colab": {
          "base_uri": "https://localhost:8080/"
        }
      },
      "execution_count": 36,
      "outputs": [
        {
          "output_type": "stream",
          "name": "stdout",
          "text": [
            "14\n"
          ]
        }
      ]
    },
    {
      "cell_type": "markdown",
      "source": [
        "**Poject 1**"
      ],
      "metadata": {
        "id": "l456QSZlUuZP"
      }
    },
    {
      "cell_type": "code",
      "source": [
        "checklist=[\"read emails\",\"respond email\",\"coding\",\"testing\",\"meeting \"]\n",
        "completed_tasks=[]\n",
        "incompleted_tasks=[]\n",
        "for i in checklist:\n",
        "  if(i==\"read emails\" or i==\"respond email\" or i==\"coding\"):\n",
        "    incompleted_tasks.append(i)\n",
        "    completed_tasks.append(i)\n",
        "  else:\n",
        "    incompleted_tasks.append(i)\n",
        "checklist.clear( )\n",
        "print(checklist)\n",
        "print(\"INCompleted Tasks\")\n",
        "print(incompleted_tasks)\n",
        "print(\"Completed Tasks\")\n",
        "print(completed_tasks)\n"
      ],
      "metadata": {
        "id": "OWWBii1EUt57",
        "outputId": "9d926a36-3daa-4162-8be8-6a0dacc6c26b",
        "colab": {
          "base_uri": "https://localhost:8080/"
        }
      },
      "execution_count": 40,
      "outputs": [
        {
          "output_type": "stream",
          "name": "stdout",
          "text": [
            "[]\n",
            "['read emails', 'respond email', 'coding', 'testing', 'meeting ']\n",
            "['read emails', 'respond email', 'coding']\n"
          ]
        }
      ]
    }
  ],
  "metadata": {
    "colab": {
      "name": "Prompting.ipynb",
      "provenance": []
    },
    "google": {
      "image_path": "/static/site-assets/images/docs/logo-python.svg",
      "keywords": [
        "examples",
        "gemini",
        "beginner",
        "googleai",
        "quickstart",
        "python",
        "text",
        "chat",
        "vision",
        "embed"
      ]
    },
    "kernelspec": {
      "display_name": "Python 3",
      "name": "python3"
    }
  },
  "nbformat": 4,
  "nbformat_minor": 0
}